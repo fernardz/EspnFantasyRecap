{
 "cells": [
  {
   "cell_type": "code",
   "execution_count": null,
   "metadata": {},
   "outputs": [],
   "source": [
    "%matplotlib inline\n",
    "import pandas as pd\n",
    "import requests\n",
    "import itertools\n",
    "from matplotlib import pyplot as plt\n",
    "import seaborn as sns\n",
    "import random\n",
    "import keyring\n",
    "from io import BytesIO\n",
    "from sklearn.preprocessing import StandardScaler,MaxAbsScaler, MinMaxScaler\n",
    "import numpy as np"
   ]
  },
  {
   "cell_type": "code",
   "execution_count": null,
   "metadata": {},
   "outputs": [],
   "source": [
    "leagueID=keyring.get_password('ESPN','League')\n",
    "w=4"
   ]
  },
  {
   "cell_type": "markdown",
   "metadata": {},
   "source": [
    "Create api url for pulling all information related to fantasy scoring"
   ]
  },
  {
   "cell_type": "code",
   "execution_count": null,
   "metadata": {},
   "outputs": [],
   "source": [
    "scoreboard=requests.get('http://fantasy.espn.com/apis/v3/games/ffl/seasons/2020/segments/0/leagues/{}?view=mBoxscore&scoringPeriodId={}&matchupPeriodId={}'.format(leagueID,w,w))\n",
    "\n",
    "sc_data=scoreboard.json()"
   ]
  },
  {
   "cell_type": "markdown",
   "metadata": {},
   "source": [
    "Generate all the mapping we will need for our blog post and to create our data"
   ]
  },
  {
   "cell_type": "code",
   "execution_count": null,
   "metadata": {},
   "outputs": [],
   "source": [
    "pos_dict={0:'QB',2:'RB',4:'WR',6:'TE',23:'FLEX',16:'D/ST',17:'K',20:'BNCK'}\n",
    "\n",
    "Rs={0:1,2:2,4:2,6:1,23:1,16:1,17:1}\n",
    "\n",
    "team_map={itm['id']:itm['location']+' '+itm['nickname'] for itm in sc_data['teams']}\n",
    "iteam_map = {v: k for k, v in team_map.items()}\n",
    "\n",
    "divs={0:'East',1:'West',2:'Mid'}\n",
    "\n",
    "team_div={x['id']:divs.get(x['divisionId']) for x in sc_data['teams']}\n",
    "\n",
    "record_dict={itm['id']:itm['record'] for itm in sc_data['teams']}\n",
    "\n",
    "rtxt_dict={k:'({},{},{})'.format(v['overall']['wins'],\n",
    "                       v['overall']['ties'],\n",
    "                       v['overall']['losses']) for k,v in record_dict.items()}"
   ]
  },
  {
   "cell_type": "markdown",
   "metadata": {},
   "source": [
    "Iterate over all the matches and for each get the elegible scores. We also iterate over all possibilities for scoring to get the best team score and all others"
   ]
  },
  {
   "cell_type": "code",
   "execution_count": null,
   "metadata": {
    "scrolled": true
   },
   "outputs": [],
   "source": [
    "gscores={}\n",
    "gno=1\n",
    "for s in sc_data['schedule']:\n",
    "    if s['matchupPeriodId']==w:\n",
    "        print('---------')\n",
    "        print(\"home: {} away {}\".format(s['home']['teamId'],s['away']['teamId']))\n",
    "        print('---------')\n",
    "        tdict={}\n",
    "        for ttype in ['home','away']:\n",
    "\n",
    "            team=s[ttype]\n",
    "            print(ttype.upper())\n",
    "            aroster=team['rosterForMatchupPeriod']\n",
    "            roster=team['rosterForCurrentScoringPeriod']\n",
    "            lp=[]\n",
    "            for e in roster['entries']:\n",
    "                pscore=e['playerPoolEntry']['appliedStatTotal']\n",
    "                pfname=e['playerPoolEntry']['player']['fullName']\n",
    "                pslots=e['playerPoolEntry']['player']['eligibleSlots']\n",
    "                pslot=e['lineupSlotId']\n",
    "                print(\"{:.2f} {} Slot:{}\".format(pscore,pfname,pslot),pslots)\n",
    "                lp.append([pscore,pfname,pslot,pslots])\n",
    "\n",
    "            lpd=pd.DataFrame(lp,columns=['Score','Name','Slot','Slots'])\n",
    "            lpd['SlotPos']=lpd.Slot.map(pos_dict)\n",
    "            lpd.SlotPos.fillna('Unknown',inplace=True)\n",
    "            posln={}\n",
    "\n",
    "            for k in Rs:\n",
    "                posln[k]=lpd[lpd.Slots.apply(lambda x:k in x)].index.values\n",
    "\n",
    "            tarr=[]\n",
    "            for i,k in Rs.items():\n",
    "                for ii in range(0,k):\n",
    "                    tarr.append(list(posln[i]))\n",
    "\n",
    "            lpscore=[]\n",
    "            for lpos in itertools.product(*tarr):\n",
    "                if len(set(lpos))==9:\n",
    "                    lpscore.append(lpd.loc[list(lpos)].Score.sum())\n",
    "            \n",
    "            tdict[ttype]={'score':roster['appliedStatTotal'],'roster':lpd,'teamid':team['teamId'],'pos':lpscore}\n",
    "        gscores[gno]=tdict\n",
    "        gno=gno+1"
   ]
  },
  {
   "cell_type": "markdown",
   "metadata": {},
   "source": [
    "Generate all the information we will need to create the different headings and different plots per game"
   ]
  },
  {
   "cell_type": "code",
   "execution_count": null,
   "metadata": {
    "scrolled": false
   },
   "outputs": [],
   "source": [
    "headings=[]\n",
    "posts=[]\n",
    "sns.set_theme(style=\"ticks\",font_scale=1.2, color_codes=True)\n",
    "tds=pd.DataFrame([],columns=['team'])\n",
    "all_rosters=pd.DataFrame([])\n",
    "for i,g in gscores.items():\n",
    "    print('GAME '+str(i))\n",
    "    home=team_map.get(g['home']['teamid'])\n",
    "    away=team_map.get(g['away']['teamid'])\n",
    "    home_score=g['home']['score']\n",
    "    away_score=g['away']['score']\n",
    "    \n",
    "\n",
    "    home_n=team_map.get(g['home']['teamid'])\n",
    "    home_div=team_div.get(g['home']['teamid'])\n",
    "    home_rec=rtxt_dict.get(g['home']['teamid'])\n",
    "\n",
    "    away_n=team_map.get(g['away']['teamid'])\n",
    "    away_div=team_div.get(g['away']['teamid'])\n",
    "    away_rec=rtxt_dict.get(g['away']['teamid'])\n",
    "    \n",
    "    heading=\"{} {} {} Div.-:{:.1f} vs {} {} {} Div.-:{:.1f} \\n\".format(home_n,\n",
    "                                                          home_rec,\n",
    "                                                          home_div,\n",
    "                                                          home_score,\n",
    "                                                          away_n,\n",
    "                                                          away_rec,\n",
    "                                                          away_div,\n",
    "                                                          away_score)\n",
    "    \n",
    "    headings.append(heading)\n",
    "\n",
    "    print('{}: {:.1f} vs {}: {:.1f}'.format(home,home_score,away,away_score))\n",
    "    f, (ax1, ax2) = plt.subplots(1, 2, sharey=False,figsize=(15,5))\n",
    "    \n",
    "\n",
    "    sns.histplot(g['home']['pos'],ax=ax1,bins=15,stat=\"probability\")\n",
    "    ax1.axvline(g['home']['score'],color='r')\n",
    "    ax1.set_title('{}:{:.1f}'.format(home,home_score))\n",
    "    \n",
    "\n",
    "    sns.histplot(g['away']['pos'],ax=ax2,bins=15,stat=\"probability\")\n",
    "    ax2.axvline(g['away']['score'],color='r')\n",
    "    ax2.set_title('{}: {:.1f}'.format(away,away_score))\n",
    "    \n",
    "    td=pd.DataFrame(g['home']['pos'],columns=['score'])\n",
    "    td.insert(column='team',value=home,loc=0)\n",
    "    td.insert(column='sc',value=home_score,loc=0)\n",
    "    tds=tds.append(td)\n",
    "    all_rosters=all_rosters.append(g['home']['roster'])\n",
    "    \n",
    "    td=pd.DataFrame(g['away']['pos'],columns=['score'])\n",
    "    td.insert(column='team',value=away,loc=0)\n",
    "    td.insert(column='sc',value=away_score,loc=0)\n",
    "    tds=tds.append(td)\n",
    "    plt.savefig('Week{}/g{}_prob.png'.format(w,i))\n",
    "    \n",
    "    post={\n",
    "        'heading':'##'+heading,\n",
    "        'img_org':'Week{}/g{}_prob.png'.format(w,i)\n",
    "    }\n",
    "    posts.append(post)\n",
    "    all_rosters=all_rosters.append(g['away']['roster'])\n",
    "    \n",
    "    \n",
    "    "
   ]
  },
  {
   "cell_type": "markdown",
   "metadata": {},
   "source": [
    "Get the overall plots for posts"
   ]
  },
  {
   "cell_type": "code",
   "execution_count": null,
   "metadata": {
    "scrolled": false
   },
   "outputs": [],
   "source": [
    "fb,axbp = plt.subplots(figsize=(15,10))\n",
    "\n",
    "sns.boxenplot(x=\"team\", y='score', data=tds, ax=axbp)\n",
    "sns.stripplot(data=tds[['team','sc']].drop_duplicates(), x=\"team\", y=\"sc\",color='r',jitter=0,size=10)\n",
    "axbp.tick_params(axis='x', labelrotation=45)\n",
    "axbp.set_title('Team Possibile Scores Week {}'.format(w));\n",
    "axbp.set(xlabel='Team', ylabel='Possible Score');\n",
    "plt.savefig('Week{}/overall_prob.png'.format(w))\n"
   ]
  },
  {
   "cell_type": "markdown",
   "metadata": {},
   "source": [
    "Generate different indicators live MVP, LVP, best manager, worst manager, etc"
   ]
  },
  {
   "cell_type": "code",
   "execution_count": null,
   "metadata": {},
   "outputs": [],
   "source": [
    "bsc=tds.groupby('team').max()\n",
    "bsc.columns=['Actual Score','Best Possible Score']\n",
    "bsc.index.name=''\n",
    "bsc.to_markdown()"
   ]
  },
  {
   "cell_type": "code",
   "execution_count": null,
   "metadata": {},
   "outputs": [],
   "source": [
    "bmax=bsc.idxmax().to_frame()\n",
    "bmin=bsc.idxmin().to_frame()"
   ]
  },
  {
   "cell_type": "code",
   "execution_count": null,
   "metadata": {},
   "outputs": [],
   "source": [
    "perf=[]\n",
    "for gname, gp in all_rosters[['Name','Score','SlotPos']][~all_rosters['SlotPos'].isin(['Unknown','BNCK'])].groupby('SlotPos'):\n",
    "    sc=StandardScaler()\n",
    "    gp=gp.set_index('Name')\n",
    "    xs=sc.fit_transform(gp['Score'].values.reshape(-1, 1))\n",
    "    gp['Scale']=xs\n",
    "    pmin=gp.loc[gp.Score.idxmin()]\n",
    "    pmax=gp.loc[gp.Score.idxmax()]\n",
    "    perf.append([pmax.name,pmin.name,pmax.Scale,pmin.Scale])\n",
    "perfdf=pd.DataFrame(perf,columns=['Max_Name','Min_Name','MaxN','MinN'])\n",
    "LVP=perfdf.loc[perfdf.MinN.idxmin].Min_Name\n",
    "MVP=perfdf.loc[perfdf.MaxN.idxmax].Max_Name"
   ]
  },
  {
   "cell_type": "code",
   "execution_count": null,
   "metadata": {},
   "outputs": [],
   "source": [
    "f = open('quotes.txt', 'r')\n",
    "txt = f.read()\n",
    "lines = txt.split('\\n.\\n')\n",
    "rand=random.choice(lines)"
   ]
  },
  {
   "cell_type": "code",
   "execution_count": null,
   "metadata": {},
   "outputs": [],
   "source": [
    "x = bsc.transpose().values #returns a numpy array\n",
    "max_scaler =MaxAbsScaler()\n",
    "x_scaled = max_scaler.fit_transform(x)\n",
    "df = pd.DataFrame(x_scaled,columns=bsc.transpose().columns)"
   ]
  },
  {
   "cell_type": "code",
   "execution_count": null,
   "metadata": {},
   "outputs": [],
   "source": [
    "res=df.transpose()\n",
    "res['D']=res[1]-res[0]"
   ]
  },
  {
   "cell_type": "code",
   "execution_count": null,
   "metadata": {},
   "outputs": [],
   "source": [
    "worst_manager=res.loc[res.D.idxmax].name\n",
    "best_manager=res.loc[res.D.idxmin].name\n",
    "worst_manager"
   ]
  },
  {
   "cell_type": "markdown",
   "metadata": {},
   "source": [
    "Iterate to find the projected scores for each team"
   ]
  },
  {
   "cell_type": "code",
   "execution_count": null,
   "metadata": {},
   "outputs": [],
   "source": [
    "gnum=1\n",
    "proj_scores={}\n",
    "games={}\n",
    "diffs={}\n",
    "all_ros_p=pd.DataFrame([])\n",
    "for game in sc_data['schedule']:\n",
    "    if game['matchupPeriodId']==w:\n",
    "        home=game['home']\n",
    "        home_n=team_map.get(game['home']['teamId'])\n",
    "        home_div=team_div.get(game['home']['teamId'])\n",
    "        home_rec=rtxt_dict.get(game['home']['teamId'])\n",
    "        away=game['away']\n",
    "        away_n=team_map.get(game['away']['teamId'])\n",
    "        away_div=team_div.get(game['away']['teamId'])\n",
    "        away_rec=rtxt_dict.get(game['away']['teamId'])\n",
    "        \n",
    "        columns=['Player','AScore','PScore','Slot','Pos','PSlots']\n",
    "\n",
    "        plines=[]\n",
    "        for ent in home['rosterForCurrentScoringPeriod']['entries']:\n",
    "            a_score=ent['playerPoolEntry']['appliedStatTotal']\n",
    "            for x in ent['playerPoolEntry']['player']['stats']:\n",
    "                if x['statSourceId']==1:\n",
    "                    pl_proj=x\n",
    "                    p_score=pl_proj['appliedTotal']\n",
    "                    break\n",
    "            pline=[ent['playerPoolEntry']['player']['fullName'],\n",
    "             a_score,\n",
    "             p_score,\n",
    "             ent['lineupSlotId'],\n",
    "             pos_dict.get(ent['lineupSlotId'],'Unknown'),\n",
    "             ent['playerPoolEntry']['player']['eligibleSlots']]\n",
    "            plines.append(pline)\n",
    "        tlp=pd.DataFrame(plines,columns=columns)\n",
    "        tlp.insert(column='tid',loc=0,value=home['teamId'])\n",
    "        tlp.insert(column='gid',loc=0,value=gnum)\n",
    "        home_pscore=tlp[~tlp['Slot'].isin([20,21])].PScore.sum()\n",
    "        all_ros_p=all_ros_p.append(tlp)\n",
    "        \n",
    "        plines=[]\n",
    "        for ent in away['rosterForCurrentScoringPeriod']['entries']:\n",
    "            a_score=ent['playerPoolEntry']['appliedStatTotal']\n",
    "            for x in ent['playerPoolEntry']['player']['stats']:\n",
    "                if x['statSourceId']==1:\n",
    "                    pl_proj=x\n",
    "                    p_score=pl_proj['appliedTotal']\n",
    "                    break\n",
    "            pline=[ent['playerPoolEntry']['player']['fullName'],\n",
    "             a_score,\n",
    "             p_score,\n",
    "             ent['lineupSlotId'],\n",
    "             pos_dict.get(ent['lineupSlotId'],'Unknown'),\n",
    "             ent['playerPoolEntry']['player']['eligibleSlots']]\n",
    "            plines.append(pline)\n",
    "        tlp=pd.DataFrame(plines,columns=columns)\n",
    "        tlp.insert(column='tid',loc=0,value=away['teamId'])\n",
    "        tlp.insert(column='gid',loc=0,value=gnum)\n",
    "        away_pscore=tlp[~tlp['Slot'].isin([20,21])].PScore.sum()\n",
    "        \n",
    "        all_ros_p=all_ros_p.append(tlp)\n",
    "        \n",
    "        proj_scores[home_n]=home_pscore\n",
    "        proj_scores[away_n]=away_pscore\n",
    "        #print(heading)\n",
    "        gnum=gnum+1\n",
    "        #print(tlp)"
   ]
  },
  {
   "cell_type": "markdown",
   "metadata": {},
   "source": [
    "For each score compare projected vs actual, this gives us the Team that overperformed their projection and the one that underperformed the projection. Scale it so we can directly compare."
   ]
  },
  {
   "cell_type": "code",
   "execution_count": null,
   "metadata": {},
   "outputs": [],
   "source": [
    "bsc['Projected Score']=bsc.index.map(proj_scores)"
   ]
  },
  {
   "cell_type": "code",
   "execution_count": null,
   "metadata": {},
   "outputs": [],
   "source": [
    "x = bsc[['Projected Score']].transpose().values\n",
    "sc=bsc.transpose()"
   ]
  },
  {
   "cell_type": "code",
   "execution_count": null,
   "metadata": {},
   "outputs": [],
   "source": [
    "sc2=sc.loc['Projected Score'].values"
   ]
  },
  {
   "cell_type": "code",
   "execution_count": null,
   "metadata": {},
   "outputs": [],
   "source": [
    "scaler = MaxAbsScaler()\n",
    "scaler.fit(x)\n",
    "xsc2=scaler.transform(bsc[['Actual Score']].transpose().values)"
   ]
  },
  {
   "cell_type": "code",
   "execution_count": null,
   "metadata": {},
   "outputs": [],
   "source": [
    "bsc['Scale_Over_Projection']=list(xsc2.flatten())"
   ]
  },
  {
   "cell_type": "code",
   "execution_count": null,
   "metadata": {},
   "outputs": [],
   "source": [
    "Rudy=bsc.loc[bsc['Scale_Over_Projection'].idxmax].name\n",
    "MH=bsc.loc[bsc['Scale_Over_Projection'].idxmin].name"
   ]
  },
  {
   "cell_type": "markdown",
   "metadata": {},
   "source": [
    "Save the post to a folder that also contains the plots we made. We can just upload that to our blog(ghost)"
   ]
  },
  {
   "cell_type": "code",
   "execution_count": null,
   "metadata": {},
   "outputs": [],
   "source": [
    "filename='Week{}/stat_post.md'.format(w)\n",
    "with open(filename, 'w', encoding='utf-8') as f:\n",
    "    f.write(\"# Week {} Stats \\n\".format(w))\n",
    "    f.write(\"> {}  \\n\".format(rand))\n",
    "    f.write('## Team Performance \\n')\n",
    "    f.write('Team with the highest score: {}  \\n'.format(bmax.loc['Actual Score'][0]))\n",
    "    f.write('Team with the highest best score: {}  \\n'.format(bmax.loc['Best Possible Score'][0]))\n",
    "    f.write('Team with the lowest score: {}  \\n'.format(bmin.loc['Actual Score'][0]))\n",
    "    f.write('Team with the lowest best score: {}  \\n\\n'.format(bmin.loc['Best Possible Score'][0]))\n",
    "    f.write(bsc.to_markdown())\n",
    "    f.write('\\n\\n')\n",
    "    f.write('Week {} MVP: {}  \\n'.format(w,MVP))\n",
    "    f.write('Week {} LVP: {}  \\n'.format(w,LVP))\n",
    "    f.write('### Awards \\n')\n",
    "    f.write('Charlie Weis Award: {} \\n'.format(worst_manager))\n",
    "    f.write('Green-Seer Award: {} \\n'.format(best_manager))\n",
    "    f.write('Rudy Award: {} \\n'.format(Rudy))\n",
    "    f.write('Most Harmless Award: {} \\n'.format(MH))\n",
    "    \n",
    "    for h in headings:\n",
    "        f.write('## {} \\n'.format(h))\n",
    "    f.write(' \\n')\n",
    "    f.write('## Overall Team Performance \\n')'''"
   ]
  }
 ],
 "metadata": {
  "kernelspec": {
   "display_name": "Python 3",
   "language": "python",
   "name": "python3"
  },
  "language_info": {
   "codemirror_mode": {
    "name": "ipython",
    "version": 3
   },
   "file_extension": ".py",
   "mimetype": "text/x-python",
   "name": "python",
   "nbconvert_exporter": "python",
   "pygments_lexer": "ipython3",
   "version": "3.7.6"
  }
 },
 "nbformat": 4,
 "nbformat_minor": 4
}
